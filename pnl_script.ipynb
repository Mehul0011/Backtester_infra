{
 "cells": [
  {
   "cell_type": "code",
   "execution_count": 1,
   "metadata": {},
   "outputs": [],
   "source": [
    "def record_transaction(typeOfTransaction, price, quantityTransacted, timeOfTransaction):\n",
    "\n",
    "    # f.write('typeOfTransaction,price,quantity,timeOfTransaction,timestamp, quantity_held,pnl,cash_balance\\n')\n",
    "\n",
    "    with open('pnl/sma.csv', 'r') as f:\n",
    "        last_line = f.readlines()[-1]\n",
    "        last_cash_balance = last_line.split(',')[7]\n",
    "        quantity_held = last_line.split(',')[5]\n",
    "\n",
    "\n",
    "    try: \n",
    "        last_cash_balance = float(last_cash_balance)\n",
    "        quantity_held = float(quantity_held)\n",
    "    except:\n",
    "        last_cash_balance = float(0)\n",
    "        quantity_held = float(0)\n",
    "    price = float(price)\n",
    "    quantityTransacted = float(quantityTransacted)\n",
    "\n",
    "    if typeOfTransaction == 'buy':\n",
    "        pnl = -price * quantityTransacted\n",
    "        quantity_held = quantity_held + quantityTransacted\n",
    "        last_cash_balance = last_cash_balance + pnl\n",
    "    elif typeOfTransaction == 'sell':\n",
    "        pnl = price * quantityTransacted\n",
    "        quantity_held = quantity_held - quantityTransacted\n",
    "        last_cash_balance = last_cash_balance + pnl\n",
    "    else:\n",
    "        raise ValueError('type must be \"buy\" or \"sell\"')\n",
    "    \n",
    "    portfolio_value = quantity_held * price\n",
    "        \n",
    "    # record the transaction in the pnl file (append)\n",
    "    with open('pnl/sma.csv', 'a') as f:\n",
    "        f.write('{},{},{},{},{},{},{},{},{}\\n'.format(typeOfTransaction, price, quantityTransacted, timeOfTransaction, time.time(), quantity_held, pnl, last_cash_balance, portfolio_value))"
   ]
  },
  {
   "cell_type": "code",
   "execution_count": 2,
   "metadata": {},
   "outputs": [],
   "source": [
    "def get_cumulative_cash():\n",
    "    with open('pnl/sma.csv', 'r') as f:\n",
    "        last_line = f.readlines()[-1]\n",
    "        last_cash_balance = last_line.split(',')[7]\n",
    "    try: \n",
    "        last_cash_balance = float(last_cash_balance)\n",
    "    except:\n",
    "        last_cash_balance = float(0)\n",
    "    return float(last_cash_balance)"
   ]
  },
  {
   "cell_type": "code",
   "execution_count": 3,
   "metadata": {},
   "outputs": [],
   "source": [
    "def get_quantity_held():\n",
    "    with open('pnl/sma.csv', 'r') as f:\n",
    "        last_line = f.readlines()[-1]\n",
    "        quantity_held = last_line.split(',')[5]\n",
    "    try: \n",
    "        quantity_held = float(quantity_held)\n",
    "    except:\n",
    "        quantity_held = float(0)\n",
    "    return quantity_held"
   ]
  }
 ],
 "metadata": {
  "kernelspec": {
   "display_name": "algo-trader",
   "language": "python",
   "name": "python3"
  },
  "language_info": {
   "codemirror_mode": {
    "name": "ipython",
    "version": 3
   },
   "file_extension": ".py",
   "mimetype": "text/x-python",
   "name": "python",
   "nbconvert_exporter": "python",
   "pygments_lexer": "ipython3",
   "version": "3.9.14"
  },
  "orig_nbformat": 4
 },
 "nbformat": 4,
 "nbformat_minor": 2
}
